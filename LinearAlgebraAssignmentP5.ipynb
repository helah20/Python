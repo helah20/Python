{
  "nbformat": 4,
  "nbformat_minor": 0,
  "metadata": {
    "colab": {
      "name": "LinearAlgebraAssignmentP5.ipynb",
      "provenance": [],
      "authorship_tag": "ABX9TyP+cok7/xmgmBz8keN489N0",
      "include_colab_link": true
    },
    "kernelspec": {
      "name": "python3",
      "display_name": "Python 3"
    }
  },
  "cells": [
    {
      "cell_type": "markdown",
      "metadata": {
        "id": "view-in-github",
        "colab_type": "text"
      },
      "source": [
        "<a href=\"https://colab.research.google.com/github/helah20/Python/blob/main/LinearAlgebraAssignmentP5.ipynb\" target=\"_parent\"><img src=\"https://colab.research.google.com/assets/colab-badge.svg\" alt=\"Open In Colab\"/></a>"
      ]
    },
    {
      "cell_type": "code",
      "metadata": {
        "id": "_uZHOmpN9iLV"
      },
      "source": [
        "import numpy as np"
      ],
      "execution_count": 16,
      "outputs": []
    },
    {
      "cell_type": "markdown",
      "metadata": {
        "id": "Bp7d5OsBroyg"
      },
      "source": [
        "# **practices**"
      ]
    },
    {
      "cell_type": "code",
      "metadata": {
        "colab": {
          "base_uri": "https://localhost:8080/"
        },
        "id": "NSH9WbI--_B2",
        "outputId": "08b9bbe2-2baf-49aa-cb77-91c359a18f94"
      },
      "source": [
        "np.random.rand(3,3)"
      ],
      "execution_count": 2,
      "outputs": [
        {
          "output_type": "execute_result",
          "data": {
            "text/plain": [
              "array([[0.9124641 , 0.65331942, 0.86116871],\n",
              "       [0.80665505, 0.5388639 , 0.6814485 ],\n",
              "       [0.03767426, 0.94926775, 0.18878751]])"
            ]
          },
          "metadata": {
            "tags": []
          },
          "execution_count": 2
        }
      ]
    },
    {
      "cell_type": "code",
      "metadata": {
        "colab": {
          "base_uri": "https://localhost:8080/"
        },
        "id": "aXGHQZDU_N88",
        "outputId": "57320725-26d0-4cd4-ab62-d016f52991ab"
      },
      "source": [
        "np.random.rand(3,3).size\r\n"
      ],
      "execution_count": 6,
      "outputs": [
        {
          "output_type": "execute_result",
          "data": {
            "text/plain": [
              "9"
            ]
          },
          "metadata": {
            "tags": []
          },
          "execution_count": 6
        }
      ]
    },
    {
      "cell_type": "code",
      "metadata": {
        "colab": {
          "base_uri": "https://localhost:8080/"
        },
        "id": "v5eULbpe_aI3",
        "outputId": "f29251a5-3336-4070-a2c3-c97491a84e46"
      },
      "source": [
        "np.random.rand(3,3).shape"
      ],
      "execution_count": 7,
      "outputs": [
        {
          "output_type": "execute_result",
          "data": {
            "text/plain": [
              "(3, 3)"
            ]
          },
          "metadata": {
            "tags": []
          },
          "execution_count": 7
        }
      ]
    },
    {
      "cell_type": "code",
      "metadata": {
        "colab": {
          "base_uri": "https://localhost:8080/"
        },
        "id": "QZjftzdT_dKj",
        "outputId": "39753cd5-a1c0-4961-848f-7ef4818f560c"
      },
      "source": [
        "np.random.randint(3,10)"
      ],
      "execution_count": 9,
      "outputs": [
        {
          "output_type": "execute_result",
          "data": {
            "text/plain": [
              "4"
            ]
          },
          "metadata": {
            "tags": []
          },
          "execution_count": 9
        }
      ]
    },
    {
      "cell_type": "code",
      "metadata": {
        "colab": {
          "base_uri": "https://localhost:8080/"
        },
        "id": "85Jggd2-_y1L",
        "outputId": "f82b3342-c911-48a9-edf5-aebe65a6eb4c"
      },
      "source": [
        "np.random.randint(3,10,(2,3))"
      ],
      "execution_count": 11,
      "outputs": [
        {
          "output_type": "execute_result",
          "data": {
            "text/plain": [
              "array([[4, 6, 8],\n",
              "       [3, 6, 5]])"
            ]
          },
          "metadata": {
            "tags": []
          },
          "execution_count": 11
        }
      ]
    },
    {
      "cell_type": "markdown",
      "metadata": {
        "id": "TsPwX5Kers2c"
      },
      "source": [
        "## **asinment solution**"
      ]
    },
    {
      "cell_type": "markdown",
      "metadata": {
        "id": "Xs5YzVwZp-7u"
      },
      "source": [
        "## **Use your Jupyterlab environment and numpy from your MatrixDS project to solve the attached systems of equations. What values do you get for x and y for each?**\r\n",
        "first:\r\n",
        "\r\n",
        "3x + 5y = 6\r\n",
        "\r\n",
        "7x - 5y = 9\r\n",
        "\r\n",
        "\r\n"
      ]
    },
    {
      "cell_type": "code",
      "metadata": {
        "colab": {
          "base_uri": "https://localhost:8080/"
        },
        "id": "4QysyXlKhVZ-",
        "outputId": "cc5d781f-bd47-4091-b3e3-bbb8b8a1046f"
      },
      "source": [
        "A=np.array([[3,5],[7,-5]])\r\n",
        "B=np.array([6,9])\r\n",
        "x=np.linalg.inv(A).dot(B)\r\n",
        "\r\n",
        "print(x)"
      ],
      "execution_count": 18,
      "outputs": [
        {
          "output_type": "stream",
          "text": [
            "[1.5 0.3]\n"
          ],
          "name": "stdout"
        }
      ]
    },
    {
      "cell_type": "markdown",
      "metadata": {
        "id": "qTIIp0r1qZnv"
      },
      "source": [
        "\r\n",
        "x + y + z = 6\r\n",
        " \r\n",
        "y + z = -4\r\n",
        "\r\n",
        "2x + 5y - z = 27\r\n"
      ]
    },
    {
      "cell_type": "code",
      "metadata": {
        "colab": {
          "base_uri": "https://localhost:8080/"
        },
        "id": "G43N6ojHizCn",
        "outputId": "019a4f2d-c3da-41ce-838b-ba6e5a7c3dd5"
      },
      "source": [
        "A=np.array([[1,1,1],[0,1,1],[2,5,-1]])\r\n",
        "B=np.array([6,-4,27])\r\n",
        "x=np.linalg.inv(A).dot(B)\r\n",
        "\r\n",
        "print(x)"
      ],
      "execution_count": 19,
      "outputs": [
        {
          "output_type": "stream",
          "text": [
            "[10.   0.5 -4.5]\n"
          ],
          "name": "stdout"
        }
      ]
    },
    {
      "cell_type": "markdown",
      "metadata": {
        "id": "nAAeFrcmqzwQ"
      },
      "source": [
        "x + y = 4\r\n",
        "\r\n",
        "2x + 2y = 8"
      ]
    },
    {
      "cell_type": "code",
      "metadata": {
        "colab": {
          "base_uri": "https://localhost:8080/",
          "height": 408
        },
        "id": "wSrzE033q2zZ",
        "outputId": "b774df0b-ef4b-4c6e-f40f-8ad112215422"
      },
      "source": [
        "A=np.array([[1,1],[2,2]])\r\n",
        "B=np.array([4,8])\r\n",
        "x=np.linalg.inv(A).dot(B)\r\n",
        "\r\n",
        "print(x)\r\n",
        "# the error becuz the variable have the same value "
      ],
      "execution_count": 21,
      "outputs": [
        {
          "output_type": "error",
          "ename": "LinAlgError",
          "evalue": "ignored",
          "traceback": [
            "\u001b[0;31m---------------------------------------------------------------------------\u001b[0m",
            "\u001b[0;31mLinAlgError\u001b[0m                               Traceback (most recent call last)",
            "\u001b[0;32m<ipython-input-21-57ec8ef2f971>\u001b[0m in \u001b[0;36m<module>\u001b[0;34m()\u001b[0m\n\u001b[1;32m      1\u001b[0m \u001b[0mA\u001b[0m\u001b[0;34m=\u001b[0m\u001b[0mnp\u001b[0m\u001b[0;34m.\u001b[0m\u001b[0marray\u001b[0m\u001b[0;34m(\u001b[0m\u001b[0;34m[\u001b[0m\u001b[0;34m[\u001b[0m\u001b[0;36m1\u001b[0m\u001b[0;34m,\u001b[0m\u001b[0;36m1\u001b[0m\u001b[0;34m]\u001b[0m\u001b[0;34m,\u001b[0m\u001b[0;34m[\u001b[0m\u001b[0;36m2\u001b[0m\u001b[0;34m,\u001b[0m\u001b[0;36m2\u001b[0m\u001b[0;34m]\u001b[0m\u001b[0;34m]\u001b[0m\u001b[0;34m)\u001b[0m\u001b[0;34m\u001b[0m\u001b[0;34m\u001b[0m\u001b[0m\n\u001b[1;32m      2\u001b[0m \u001b[0mB\u001b[0m\u001b[0;34m=\u001b[0m\u001b[0mnp\u001b[0m\u001b[0;34m.\u001b[0m\u001b[0marray\u001b[0m\u001b[0;34m(\u001b[0m\u001b[0;34m[\u001b[0m\u001b[0;36m4\u001b[0m\u001b[0;34m,\u001b[0m\u001b[0;36m8\u001b[0m\u001b[0;34m]\u001b[0m\u001b[0;34m)\u001b[0m\u001b[0;34m\u001b[0m\u001b[0;34m\u001b[0m\u001b[0m\n\u001b[0;32m----> 3\u001b[0;31m \u001b[0mx\u001b[0m\u001b[0;34m=\u001b[0m\u001b[0mnp\u001b[0m\u001b[0;34m.\u001b[0m\u001b[0mlinalg\u001b[0m\u001b[0;34m.\u001b[0m\u001b[0minv\u001b[0m\u001b[0;34m(\u001b[0m\u001b[0mA\u001b[0m\u001b[0;34m)\u001b[0m\u001b[0;34m.\u001b[0m\u001b[0mdot\u001b[0m\u001b[0;34m(\u001b[0m\u001b[0mB\u001b[0m\u001b[0;34m)\u001b[0m\u001b[0;34m\u001b[0m\u001b[0;34m\u001b[0m\u001b[0m\n\u001b[0m\u001b[1;32m      4\u001b[0m \u001b[0;34m\u001b[0m\u001b[0m\n\u001b[1;32m      5\u001b[0m \u001b[0mprint\u001b[0m\u001b[0;34m(\u001b[0m\u001b[0mx\u001b[0m\u001b[0;34m)\u001b[0m\u001b[0;34m\u001b[0m\u001b[0;34m\u001b[0m\u001b[0m\n",
            "\u001b[0;32m<__array_function__ internals>\u001b[0m in \u001b[0;36minv\u001b[0;34m(*args, **kwargs)\u001b[0m\n",
            "\u001b[0;32m/usr/local/lib/python3.6/dist-packages/numpy/linalg/linalg.py\u001b[0m in \u001b[0;36minv\u001b[0;34m(a)\u001b[0m\n\u001b[1;32m    544\u001b[0m     \u001b[0msignature\u001b[0m \u001b[0;34m=\u001b[0m \u001b[0;34m'D->D'\u001b[0m \u001b[0;32mif\u001b[0m \u001b[0misComplexType\u001b[0m\u001b[0;34m(\u001b[0m\u001b[0mt\u001b[0m\u001b[0;34m)\u001b[0m \u001b[0;32melse\u001b[0m \u001b[0;34m'd->d'\u001b[0m\u001b[0;34m\u001b[0m\u001b[0;34m\u001b[0m\u001b[0m\n\u001b[1;32m    545\u001b[0m     \u001b[0mextobj\u001b[0m \u001b[0;34m=\u001b[0m \u001b[0mget_linalg_error_extobj\u001b[0m\u001b[0;34m(\u001b[0m\u001b[0m_raise_linalgerror_singular\u001b[0m\u001b[0;34m)\u001b[0m\u001b[0;34m\u001b[0m\u001b[0;34m\u001b[0m\u001b[0m\n\u001b[0;32m--> 546\u001b[0;31m     \u001b[0mainv\u001b[0m \u001b[0;34m=\u001b[0m \u001b[0m_umath_linalg\u001b[0m\u001b[0;34m.\u001b[0m\u001b[0minv\u001b[0m\u001b[0;34m(\u001b[0m\u001b[0ma\u001b[0m\u001b[0;34m,\u001b[0m \u001b[0msignature\u001b[0m\u001b[0;34m=\u001b[0m\u001b[0msignature\u001b[0m\u001b[0;34m,\u001b[0m \u001b[0mextobj\u001b[0m\u001b[0;34m=\u001b[0m\u001b[0mextobj\u001b[0m\u001b[0;34m)\u001b[0m\u001b[0;34m\u001b[0m\u001b[0;34m\u001b[0m\u001b[0m\n\u001b[0m\u001b[1;32m    547\u001b[0m     \u001b[0;32mreturn\u001b[0m \u001b[0mwrap\u001b[0m\u001b[0;34m(\u001b[0m\u001b[0mainv\u001b[0m\u001b[0;34m.\u001b[0m\u001b[0mastype\u001b[0m\u001b[0;34m(\u001b[0m\u001b[0mresult_t\u001b[0m\u001b[0;34m,\u001b[0m \u001b[0mcopy\u001b[0m\u001b[0;34m=\u001b[0m\u001b[0;32mFalse\u001b[0m\u001b[0;34m)\u001b[0m\u001b[0;34m)\u001b[0m\u001b[0;34m\u001b[0m\u001b[0;34m\u001b[0m\u001b[0m\n\u001b[1;32m    548\u001b[0m \u001b[0;34m\u001b[0m\u001b[0m\n",
            "\u001b[0;32m/usr/local/lib/python3.6/dist-packages/numpy/linalg/linalg.py\u001b[0m in \u001b[0;36m_raise_linalgerror_singular\u001b[0;34m(err, flag)\u001b[0m\n\u001b[1;32m     86\u001b[0m \u001b[0;34m\u001b[0m\u001b[0m\n\u001b[1;32m     87\u001b[0m \u001b[0;32mdef\u001b[0m \u001b[0m_raise_linalgerror_singular\u001b[0m\u001b[0;34m(\u001b[0m\u001b[0merr\u001b[0m\u001b[0;34m,\u001b[0m \u001b[0mflag\u001b[0m\u001b[0;34m)\u001b[0m\u001b[0;34m:\u001b[0m\u001b[0;34m\u001b[0m\u001b[0;34m\u001b[0m\u001b[0m\n\u001b[0;32m---> 88\u001b[0;31m     \u001b[0;32mraise\u001b[0m \u001b[0mLinAlgError\u001b[0m\u001b[0;34m(\u001b[0m\u001b[0;34m\"Singular matrix\"\u001b[0m\u001b[0;34m)\u001b[0m\u001b[0;34m\u001b[0m\u001b[0;34m\u001b[0m\u001b[0m\n\u001b[0m\u001b[1;32m     89\u001b[0m \u001b[0;34m\u001b[0m\u001b[0m\n\u001b[1;32m     90\u001b[0m \u001b[0;32mdef\u001b[0m \u001b[0m_raise_linalgerror_nonposdef\u001b[0m\u001b[0;34m(\u001b[0m\u001b[0merr\u001b[0m\u001b[0;34m,\u001b[0m \u001b[0mflag\u001b[0m\u001b[0;34m)\u001b[0m\u001b[0;34m:\u001b[0m\u001b[0;34m\u001b[0m\u001b[0;34m\u001b[0m\u001b[0m\n",
            "\u001b[0;31mLinAlgError\u001b[0m: Singular matrix"
          ]
        }
      ]
    },
    {
      "cell_type": "markdown",
      "metadata": {
        "id": "oshJUU4ssWWM"
      },
      "source": [
        "We also did the Assignment by hand \r\n",
        "\r\n",
        "# First system of equation\r\n",
        "3x + 5y = 6\r\n",
        "\r\n",
        "3x = 6 -5y\r\n",
        "\r\n",
        "x = (6 -5y)/3\r\n",
        "\r\n",
        "x = 2-(5y/3)\r\n",
        "_____________\r\n",
        "replace y:\r\n",
        "**x = 2-(5y/ 3)**\r\n",
        "\r\n",
        "x = 2-(5-0.325/ 3)\r\n",
        "\r\n",
        "**x = -2.8916**\r\n",
        "___________\r\n",
        "find x:\r\n",
        "\r\n",
        "7x - 5y = 9\r\n",
        "\r\n",
        "7(2-(5y/3)) - 5y = 9\r\n",
        "\r\n",
        "14 - 35y/3 -5y = 9\r\n",
        "\r\n",
        "14 -35y -5y = 27\r\n",
        "\r\n",
        "14 -40y = 27\r\n",
        "\r\n",
        "-40y = 27 - 14\r\n",
        "\r\n",
        "-40y = 13\r\n",
        "\r\n",
        "**y = -0.325**\r\n",
        "\r\n",
        "# Second system of equation\r\n",
        "\r\n",
        "x + y + z = 6\r\n",
        "\r\n",
        "   y + z = -4\r\n",
        "\r\n",
        "2x + 5y - z = 27\r\n",
        "\r\n",
        "\r\n",
        " combine 1&2 equation\r\n",
        "\r\n",
        "x + 2y + 2z = 2\r\n",
        "\r\n",
        "combine 2&3 equation\r\n",
        "\r\n",
        "2x +6y = 23\r\n",
        "\r\n",
        "x = 11.5 -6y \r\n",
        "--------\r\n",
        "add y value\r\n",
        "\r\n",
        "x = 11.5 -6 * 0.25\r\n",
        "\r\n",
        "x = 10\r\n",
        "\r\n",
        "find y \r\n",
        "11.5 -6y + 2y + 2z = 2\r\n",
        "\r\n",
        "11.5 -2 +2z = 4y\r\n",
        "\r\n",
        "9.5 +2z = 4y\r\n",
        "\r\n",
        "y = 2.375 +0.5z\r\n",
        "\r\n",
        "--------\r\n",
        "add z value\r\n",
        "\r\n",
        "y = 2.375 +0.5 * -4.25\r\n",
        "\r\n",
        "y = 0.25\r\n",
        "\r\n",
        "find z\r\n",
        "\r\n",
        "2.375 +1.5z = -4\r\n",
        "\r\n",
        "1.5z = -4 - 2.375\r\n",
        "\r\n",
        "1.5z = -6.375\r\n",
        "\r\n",
        "z = -4.25\r\n",
        "\r\n",
        "# Third system of equation\r\n",
        "x + y = 4\r\n",
        "\r\n",
        "x = 4 - y\r\n",
        "\r\n",
        "2x + 2y = 8\r\n",
        "\r\n",
        "2 (4-y) + 2y = 8\r\n",
        "\r\n",
        "8 -2y +2y = 8\r\n",
        "\r\n",
        "8 = 8\r\n",
        "\r\n",
        "-2y +2y = 8 - 8\r\n",
        "\r\n",
        "0 = 0"
      ]
    }
  ]
}