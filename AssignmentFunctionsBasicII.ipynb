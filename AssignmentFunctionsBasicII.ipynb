{
  "nbformat": 4,
  "nbformat_minor": 0,
  "metadata": {
    "colab": {
      "name": "AssignmentFunctionsBasicII.ipynb",
      "provenance": [],
      "authorship_tag": "ABX9TyPEqNLvlrp60Fa5oIsYkHdv",
      "include_colab_link": true
    },
    "kernelspec": {
      "name": "python3",
      "display_name": "Python 3"
    }
  },
  "cells": [
    {
      "cell_type": "markdown",
      "metadata": {
        "id": "view-in-github",
        "colab_type": "text"
      },
      "source": [
        "<a href=\"https://colab.research.google.com/github/helah20/Python/blob/main/AssignmentFunctionsBasicII.ipynb\" target=\"_parent\"><img src=\"https://colab.research.google.com/assets/colab-badge.svg\" alt=\"Open In Colab\"/></a>"
      ]
    },
    {
      "cell_type": "code",
      "metadata": {
        "colab": {
          "base_uri": "https://localhost:8080/"
        },
        "id": "L7rcP59HbKJi",
        "outputId": "82ad6018-aca3-4490-e4dc-dd30d442ce33"
      },
      "source": [
        "# Countdown - Create a function that accepts a number as an input.\r\n",
        "# Return a new list that counts down by one, from the number (as the 0th element) down to 0 (as the last element).\r\n",
        "#Example: countdown(5) should return the list: [5,4,3,2,1,0]\r\n",
        "\r\n",
        "\r\n",
        "mylist=[]\r\n",
        "def countdown (num1 = 5):\r\n",
        "  mylist.append(num1)\r\n",
        "  while num1 != 0:\r\n",
        "          num1 -= 1\r\n",
        "          mylist.append(num1)\r\n",
        "\r\n",
        "\r\n",
        "countdown()\r\n",
        "print(mylist)"
      ],
      "execution_count": 13,
      "outputs": [
        {
          "output_type": "stream",
          "text": [
            "[5, 4, 3, 2, 1, 0]\n"
          ],
          "name": "stdout"
        }
      ]
    },
    {
      "cell_type": "code",
      "metadata": {
        "colab": {
          "base_uri": "https://localhost:8080/"
        },
        "id": "_FwivVTMh7B1",
        "outputId": "98f1436d-1348-46cd-88b1-50e59db1b7da"
      },
      "source": [
        "# Print and Return - Create a function that will receive a list with two numbers.\r\n",
        "# Print the first value and return the second.\r\n",
        "# Example: print_and_return([1,2]) should print 1 and return 2\r\n",
        "\r\n",
        "def print_and_return(L):\r\n",
        "   for x in  L:\r\n",
        "    print(x)\r\n",
        "    return (x+1)\r\n",
        "\r\n",
        "\r\n",
        "\r\n",
        "\r\n",
        "print_and_return([1,2])"
      ],
      "execution_count": 17,
      "outputs": [
        {
          "output_type": "stream",
          "text": [
            "1\n"
          ],
          "name": "stdout"
        },
        {
          "output_type": "execute_result",
          "data": {
            "text/plain": [
              "2"
            ]
          },
          "metadata": {
            "tags": []
          },
          "execution_count": 17
        }
      ]
    },
    {
      "cell_type": "code",
      "metadata": {
        "colab": {
          "base_uri": "https://localhost:8080/"
        },
        "id": "p1xdiEHOo99Q",
        "outputId": "29ba7037-63bf-4c1e-c641-a3064459e04f"
      },
      "source": [
        "# First Plus Length - \r\n",
        "# Create a function that accepts a list and returns the sum of the first value in the list plus the list's length.\r\n",
        "# Example: first_plus_length([1,2,3,4,5]) should return 6 (first value: 1 + length: 5)\r\n",
        "\r\n",
        "def first_plus_length(l):\r\n",
        "  for x in  l:\r\n",
        "    sum=x+len(l)\r\n",
        "    return (sum)\r\n",
        "\r\n",
        "first_plus_length([1,2,3,4,5])"
      ],
      "execution_count": 18,
      "outputs": [
        {
          "output_type": "execute_result",
          "data": {
            "text/plain": [
              "6"
            ]
          },
          "metadata": {
            "tags": []
          },
          "execution_count": 18
        }
      ]
    },
    {
      "cell_type": "code",
      "metadata": {
        "colab": {
          "base_uri": "https://localhost:8080/"
        },
        "id": "dHEki2SIpu0o",
        "outputId": "c4ca560a-bba8-4946-a36e-f18a597612cd"
      },
      "source": [
        "#This Length, That Value- \r\n",
        "#Write a function that accepts two integers as parameters: size and value. \r\n",
        "#The function should create and return a list whose length is equal to the given size, and whose values are all the given value.\r\n",
        "#Example: length_and_value(4,7) should return [7,7,7,7]\r\n",
        "#Example: length_and_value(6,2) should return [2,2,2,2,2,2]\r\n",
        "lis=[]\r\n",
        "def length_and_value(le,v):\r\n",
        "  for i in range (le):\r\n",
        "    lis.append(v)\r\n",
        "\r\n",
        "    \r\n",
        "    \r\n",
        "\r\n",
        "\r\n",
        "length_and_value(6,2)\r\n",
        "print(lis)"
      ],
      "execution_count": 25,
      "outputs": [
        {
          "output_type": "stream",
          "text": [
            "[2, 2, 2, 2, 2, 2]\n"
          ],
          "name": "stdout"
        }
      ]
    },
    {
      "cell_type": "code",
      "metadata": {
        "id": "ZwWeZTSYriAy"
      },
      "source": [
        ""
      ],
      "execution_count": null,
      "outputs": []
    }
  ]
}