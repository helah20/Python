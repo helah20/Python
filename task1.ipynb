{
  "nbformat": 4,
  "nbformat_minor": 0,
  "metadata": {
    "colab": {
      "name": "task1.ipynb",
      "provenance": [],
      "collapsed_sections": [],
      "authorship_tag": "ABX9TyM3fEA6x4IcuMMVeJExaC/W",
      "include_colab_link": true
    },
    "kernelspec": {
      "name": "python3",
      "display_name": "Python 3"
    }
  },
  "cells": [
    {
      "cell_type": "markdown",
      "metadata": {
        "id": "view-in-github",
        "colab_type": "text"
      },
      "source": [
        "<a href=\"https://colab.research.google.com/github/helah20/Python/blob/main/task1.ipynb\" target=\"_parent\"><img src=\"https://colab.research.google.com/assets/colab-badge.svg\" alt=\"Open In Colab\"/></a>"
      ]
    },
    {
      "cell_type": "code",
      "metadata": {
        "colab": {
          "base_uri": "https://localhost:8080/"
        },
        "id": "WC7WBoHyEwio",
        "outputId": "46013fcf-f284-4645-8552-8a5fbceea2bc"
      },
      "source": [
        "#Write the code to print a literal string saying \"Hello World\" (#1)\r\n",
        "print ('Hello World')"
      ],
      "execution_count": 1,
      "outputs": [
        {
          "output_type": "stream",
          "text": [
            "Hello World\n"
          ],
          "name": "stdout"
        }
      ]
    },
    {
      "cell_type": "code",
      "metadata": {
        "colab": {
          "base_uri": "https://localhost:8080/"
        },
        "id": "_KaiFfvUFQi6",
        "outputId": "5bddba0c-ad23-410b-c87d-1deb7edfa2ba"
      },
      "source": [
        "#Store your name in a variable, and then use it to print the string “Hello {{your name}}!” using a comma in the print function (#2a)\r\n",
        "name='Hailah'\r\n",
        "print (\"Hello , \" , name , '!')"
      ],
      "execution_count": 12,
      "outputs": [
        {
          "output_type": "stream",
          "text": [
            "Hello ,  Hailah !\n"
          ],
          "name": "stdout"
        }
      ]
    },
    {
      "cell_type": "code",
      "metadata": {
        "colab": {
          "base_uri": "https://localhost:8080/"
        },
        "id": "0ajSfZb5Gmlf",
        "outputId": "b582a29c-4671-4927-dee5-f4c3b2fced92"
      },
      "source": [
        "# Store your name in a variable, and then use it to print the string “Hello {{your name}}!” using a + in the print function (#2b)\r\n",
        "name='Hailah'\r\n",
        "print (\"Hello , \" + name + '!')"
      ],
      "execution_count": 11,
      "outputs": [
        {
          "output_type": "stream",
          "text": [
            "Hello , Hailah!\n"
          ],
          "name": "stdout"
        }
      ]
    },
    {
      "cell_type": "code",
      "metadata": {
        "colab": {
          "base_uri": "https://localhost:8080/"
        },
        "id": "VugidKCcG56r",
        "outputId": "5b44fbbe-477b-4d13-ee12-fa81e690b9aa"
      },
      "source": [
        "# Store your favorite number in a variable, and then use it to print the string “Hello {{num}}!” using a comma in the print function (#3a)\r\n",
        "\r\n",
        "number=5\r\n",
        "print('Hello ' , number)"
      ],
      "execution_count": 18,
      "outputs": [
        {
          "output_type": "stream",
          "text": [
            "Hello  5\n"
          ],
          "name": "stdout"
        }
      ]
    },
    {
      "cell_type": "code",
      "metadata": {
        "colab": {
          "base_uri": "https://localhost:8080/"
        },
        "id": "ykWvmutQHNEN",
        "outputId": "6e962179-c3a4-4710-9a27-c282af4503ad"
      },
      "source": [
        "# Store your favorite number in a variable, and then use it to print the string “Hello {{num}}!” using a + in the print function (#3b)\r\n",
        "number=5\r\n",
        "print('Hello ' + str(number))"
      ],
      "execution_count": 17,
      "outputs": [
        {
          "output_type": "stream",
          "text": [
            "Hello 5\n"
          ],
          "name": "stdout"
        }
      ]
    },
    {
      "cell_type": "code",
      "metadata": {
        "colab": {
          "base_uri": "https://localhost:8080/"
        },
        "id": "YsXEaZBeHnES",
        "outputId": "4b0cc568-8501-460e-f338-9df41c6eab92"
      },
      "source": [
        "# Store 2 of your favorite foods in variables, and then use them to print the string “I love to eat {{food_one}} and {{food_two}}.” with the format method \r\n",
        "food_one='pizza'\r\n",
        "food_two='fruit'\r\n",
        "print(\"I love to eat\", f'{food_one}' , ' and' , f'{food_two}' ,\".\")"
      ],
      "execution_count": 27,
      "outputs": [
        {
          "output_type": "stream",
          "text": [
            "I love to eat pizza  and fruit .\n"
          ],
          "name": "stdout"
        }
      ]
    },
    {
      "cell_type": "code",
      "metadata": {
        "colab": {
          "base_uri": "https://localhost:8080/"
        },
        "id": "T0dc7Cd8KOLd",
        "outputId": "d1480f87-7f41-4ee8-e625-1788ae1d1297"
      },
      "source": [
        "# Store 2 of your favorite foods in variables, and then use them to print the string “I love to eat {{food_one}} and {{food_two}}.” with f-strings\r\n",
        "food_one='pizza'\r\n",
        "food_two='fruit'\r\n",
        "print(\"I love to eat %s , and , %s \"  % (food_one , food_two))"
      ],
      "execution_count": 37,
      "outputs": [
        {
          "output_type": "stream",
          "text": [
            "I love to eat pizza , and , fruit \n"
          ],
          "name": "stdout"
        }
      ]
    },
    {
      "cell_type": "code",
      "metadata": {
        "id": "f2mLUIhJM5Ve"
      },
      "source": [
        ""
      ],
      "execution_count": null,
      "outputs": []
    }
  ]
}