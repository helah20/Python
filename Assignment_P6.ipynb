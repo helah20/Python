{
  "nbformat": 4,
  "nbformat_minor": 0,
  "metadata": {
    "colab": {
      "name": "Assignment P6.ipynb",
      "provenance": [],
      "authorship_tag": "ABX9TyOoPKrZoKZ7/0zj8Y6ohn9G",
      "include_colab_link": true
    },
    "kernelspec": {
      "name": "python3",
      "display_name": "Python 3"
    }
  },
  "cells": [
    {
      "cell_type": "markdown",
      "metadata": {
        "id": "view-in-github",
        "colab_type": "text"
      },
      "source": [
        "<a href=\"https://colab.research.google.com/github/helah20/Python/blob/main/Assignment_P6.ipynb\" target=\"_parent\"><img src=\"https://colab.research.google.com/assets/colab-badge.svg\" alt=\"Open In Colab\"/></a>"
      ]
    },
    {
      "cell_type": "markdown",
      "metadata": {
        "id": "0N_P7BqUztsr"
      },
      "source": [
        "## Pandas DataFrames"
      ]
    },
    {
      "cell_type": "code",
      "metadata": {
        "colab": {
          "base_uri": "https://localhost:8080/"
        },
        "id": "St7rrWP-zz05",
        "outputId": "905de6d5-fd0b-45f0-b751-1d111788df99"
      },
      "source": [
        "import pandas as pd\r\n",
        "\r\n",
        "dict = {\"country\": [\"Brazil\", \"Russia\", \"India\", \"China\", \"South Africa\",\"Saudi Arabia\"],\r\n",
        "       \"capital\": [\"Brasilia\", \"Moscow\", \"New Dehli\", \"Beijing\", \"Pretoria\", \"Ryadh\"],\r\n",
        "       \"area\": [8.516, 17.10, 3.286, 9.597, 1.221,2.15],\r\n",
        "       \"population\": [200.4, 143.5, 1252, 1357, 52.98,33.7] }\r\n",
        "\r\n",
        "brics = pd.DataFrame(dict)\r\n",
        "print(brics)"
      ],
      "execution_count": 3,
      "outputs": [
        {
          "output_type": "stream",
          "text": [
            "        country    capital    area  population\n",
            "0        Brazil   Brasilia   8.516      200.40\n",
            "1        Russia     Moscow  17.100      143.50\n",
            "2         India  New Dehli   3.286     1252.00\n",
            "3         China    Beijing   9.597     1357.00\n",
            "4  South Africa   Pretoria   1.221       52.98\n",
            "5  Saudi Arabia      Ryadh   2.150       33.70\n"
          ],
          "name": "stdout"
        }
      ]
    },
    {
      "cell_type": "code",
      "metadata": {
        "colab": {
          "base_uri": "https://localhost:8080/"
        },
        "id": "lm4an-qB0d51",
        "outputId": "c6f45306-7d06-4a69-8dc9-6a997da03030"
      },
      "source": [
        "# Set the index for brics\r\n",
        "brics.index = [\"BR\", \"RU\", \"IN\", \"CH\", \"SA\", \"KSA\"]\r\n",
        "\r\n",
        "# Print out brics with new index values\r\n",
        "print(brics)"
      ],
      "execution_count": 4,
      "outputs": [
        {
          "output_type": "stream",
          "text": [
            "          country    capital    area  population\n",
            "BR         Brazil   Brasilia   8.516      200.40\n",
            "RU         Russia     Moscow  17.100      143.50\n",
            "IN          India  New Dehli   3.286     1252.00\n",
            "CH          China    Beijing   9.597     1357.00\n",
            "SA   South Africa   Pretoria   1.221       52.98\n",
            "KSA  Saudi Arabia      Ryadh   2.150       33.70\n"
          ],
          "name": "stdout"
        }
      ]
    },
    {
      "cell_type": "markdown",
      "metadata": {
        "id": "BXGpZX2v1JJh"
      },
      "source": [
        "### Indexing DataFrames"
      ]
    },
    {
      "cell_type": "code",
      "metadata": {
        "colab": {
          "base_uri": "https://localhost:8080/"
        },
        "id": "BJ0l4sAk0vq6",
        "outputId": "8e63c6b3-4944-47d5-bcf2-1fa5c2f7167d"
      },
      "source": [
        "\r\n",
        "\r\n",
        "# Print out capital column as Pandas Series\r\n",
        "print(brics['capital'])\r\n",
        "\r\n",
        "# Print out country column as Pandas DataFrame\r\n",
        "print(brics[['country']])\r\n",
        "\r\n",
        "# Print out DataFrame with Area and Country columns\r\n",
        "print(brics[['area', 'country']])\r\n"
      ],
      "execution_count": 6,
      "outputs": [
        {
          "output_type": "stream",
          "text": [
            "BR      Brasilia\n",
            "RU        Moscow\n",
            "IN     New Dehli\n",
            "CH       Beijing\n",
            "SA      Pretoria\n",
            "KSA        Ryadh\n",
            "Name: capital, dtype: object\n",
            "          country\n",
            "BR         Brazil\n",
            "RU         Russia\n",
            "IN          India\n",
            "CH          China\n",
            "SA   South Africa\n",
            "KSA  Saudi Arabia\n",
            "       area       country\n",
            "BR    8.516        Brazil\n",
            "RU   17.100        Russia\n",
            "IN    3.286         India\n",
            "CH    9.597         China\n",
            "SA    1.221  South Africa\n",
            "KSA   2.150  Saudi Arabia\n"
          ],
          "name": "stdout"
        }
      ]
    },
    {
      "cell_type": "code",
      "metadata": {
        "colab": {
          "base_uri": "https://localhost:8080/"
        },
        "id": "3SGcYytM1-dv",
        "outputId": "a2c0a6b0-38a1-4088-e8c2-b31cbaef5ead"
      },
      "source": [
        "# Print out first 4 observations\r\n",
        "print(brics[0:4])\r\n",
        "\r\n",
        "# Print out fifth and sixth observation\r\n",
        "print(brics[4:6])"
      ],
      "execution_count": 8,
      "outputs": [
        {
          "output_type": "stream",
          "text": [
            "   country    capital    area  population\n",
            "BR  Brazil   Brasilia   8.516       200.4\n",
            "RU  Russia     Moscow  17.100       143.5\n",
            "IN   India  New Dehli   3.286      1252.0\n",
            "CH   China    Beijing   9.597      1357.0\n",
            "          country   capital   area  population\n",
            "SA   South Africa  Pretoria  1.221       52.98\n",
            "KSA  Saudi Arabia     Ryadh  2.150       33.70\n"
          ],
          "name": "stdout"
        }
      ]
    },
    {
      "cell_type": "code",
      "metadata": {
        "colab": {
          "base_uri": "https://localhost:8080/"
        },
        "id": "M6wL7z_72WXK",
        "outputId": "87b7f0ea-ff55-4f34-b380-84ed45bb1a4c"
      },
      "source": [
        "# Print out observation for India\r\n",
        "print(brics.country[2])\r\n",
        "\r\n",
        "# Print out observations for China and Russia\r\n",
        "print(brics.loc[['CH', 'RU']])"
      ],
      "execution_count": 10,
      "outputs": [
        {
          "output_type": "stream",
          "text": [
            "India\n",
            "   country  capital    area  population\n",
            "CH   China  Beijing   9.597      1357.0\n",
            "RU  Russia   Moscow  17.100       143.5\n"
          ],
          "name": "stdout"
        }
      ]
    },
    {
      "cell_type": "code",
      "metadata": {
        "id": "OX21u33r27Jo"
      },
      "source": [
        ""
      ],
      "execution_count": null,
      "outputs": []
    }
  ]
}