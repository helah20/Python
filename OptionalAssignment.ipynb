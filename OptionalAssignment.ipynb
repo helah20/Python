{
  "nbformat": 4,
  "nbformat_minor": 0,
  "metadata": {
    "colab": {
      "name": "OptionalAssignment.ipynb",
      "provenance": [],
      "authorship_tag": "ABX9TyME9tMCrVAEjyIJMMaGmlQI",
      "include_colab_link": true
    },
    "kernelspec": {
      "name": "python3",
      "display_name": "Python 3"
    }
  },
  "cells": [
    {
      "cell_type": "markdown",
      "metadata": {
        "id": "view-in-github",
        "colab_type": "text"
      },
      "source": [
        "<a href=\"https://colab.research.google.com/github/helah20/Python/blob/main/OptionalAssignment.ipynb\" target=\"_parent\"><img src=\"https://colab.research.google.com/assets/colab-badge.svg\" alt=\"Open In Colab\"/></a>"
      ]
    },
    {
      "cell_type": "markdown",
      "metadata": {
        "id": "HNjcwm52a8ba"
      },
      "source": [
        "## **Build Company Class **\r\n",
        "Below, we want to build up some classes from scratch. We'll describe the attributes and methods that each class should have available, and ask that you come up with the classes."
      ]
    },
    {
      "cell_type": "markdown",
      "metadata": {
        "id": "FtoXX1U4c8YV"
      },
      "source": [
        "## **1. Let's build a Company class, used to represent some company (Riyadh Tea Co., Chick Fil A, Chipotle, etc.).**\r\n"
      ]
    },
    {
      "cell_type": "code",
      "metadata": {
        "id": "8dYFHCsdAYJQ"
      },
      "source": [
        "class Company :\r\n",
        "\r\n",
        "  def __init__ (self ,name , industry_type, num_employees, total_revenue):\r\n",
        "    self.name=name #  name of the company\r\n",
        "    self.industry_type=industry_type #  what industry the company belongs to\r\n",
        "    self.num_employees=num_employees #  the number of employees the company has\r\n",
        "    self.total_revenue=total_revenue #  the total revenue of the company\r\n",
        "\r\n",
        "\r\n",
        "  def serve_customer(self, cost ):  #  this method will take in a `float` that is equal to the cost of serving some customer, and then adjust the `total_revenue` by that cost.\r\n",
        "    self.total_revenue =cost*self.num_employees\r\n",
        "    print('The total revenue is : ' , self.total_revenue)\r\n",
        "    \r\n",
        "  \r\n",
        " \r\n",
        "  \r\n",
        "  def gain_employees(self , new_employees):    # this method will take in a `list` that contains new employees that the company has just brought on\r\n",
        "    number=len(new_employees)\r\n",
        "    self.num_employees+=number #  update the `num_employees` attribute to take account\r\n",
        "    print ('the number of emploees is : ',self.num_employees)\r\n",
        "\r\n",
        "\r\n",
        "\r\n",
        "\r\n"
      ],
      "execution_count": 43,
      "outputs": []
    },
    {
      "cell_type": "code",
      "metadata": {
        "id": "r_LbVmxlbeQ0"
      },
      "source": [
        "a =Company('Riyadh Tea Co ', 'e-comircal', 50 ,5000000) # here we defind an entity from company class "
      ],
      "execution_count": 44,
      "outputs": []
    },
    {
      "cell_type": "code",
      "metadata": {
        "colab": {
          "base_uri": "https://localhost:8080/"
        },
        "id": "NUHdYGwdbiq_",
        "outputId": "fd4b7c63-03a2-4c22-c510-7ce7a0c685bf"
      },
      "source": [
        "\r\n",
        "a.serve_customer(1000)\r\n",
        "a.gain_employees(['hailah', 'Rahaf'])\r\n"
      ],
      "execution_count": 46,
      "outputs": [
        {
          "output_type": "stream",
          "text": [
            "The total revenue is :  52000\n",
            "the number of emploees is :  54\n"
          ],
          "name": "stdout"
        }
      ]
    },
    {
      "cell_type": "markdown",
      "metadata": {
        "id": "B7ce27oWch_K"
      },
      "source": [
        "## **2. Let's build a TV class, used to represent a television**\r\n"
      ]
    },
    {
      "cell_type": "code",
      "metadata": {
        "id": "KVww0pYCGXVO"
      },
      "source": [
        "\r\n",
        "\r\n",
        "class TV :\r\n",
        "  def __init__ (self ,brand , on_status, current_channel, life_perc):\r\n",
        "    self.brand=brand  # `brand` - `str` holding the brand of the television ('Sony', 'LG', etc.)\r\n",
        "    self.on_status =on_status #  `on_status` - `bool` holding whether or not the television is on. This should default to False (e.g. off). \r\n",
        "    self.current_channel=current_channel #  `current_channel` - `int` holding the current channel number. If the television is off, then the `current_channel` should be 0. Given that `on_status` defaults to off, what does that mean the `current_channel` should default to?\r\n",
        "    self.life_perc=life_perc #   `life_perc` - `float` holding the percentage of life left in the TV This should start out at 100% (i.e. default to 100). \r\n",
        "\r\n",
        "\r\n",
        "#hit_power` - this will turn the television on/off, depending on whether it's already on/off (if its on it'll switch it off, and vice versa). We'll add a couple of stipulations with this one: \r\n",
        "#  Each time the television is turned off, it loses a little bit of life - decrease the `life_perc` by 0.01 each time the television is turned off.  \r\n",
        "#  Each time the television is turned off the channel should be set to 0. \r\n",
        "\r\n",
        "  def hit_power (self):\r\n",
        "    if (self.on_status==True ):\r\n",
        "      self.life_perc=self.life_perc-0.01\r\n",
        "      print('Television is  turned on!')\r\n",
        "\r\n",
        "    else :\r\n",
        "      print('Television is turned off!')\r\n",
        "\r\n",
        "#* `change_channel` - this will take in an `int` to change the channel to a new one. We'll add a stipulation to this as well: \r\n",
        "#* If the television is not on, but the `change_channel` method is called, print 'Television is not on!'. Otherwise, change the channel to the inputted channel. \r\n",
        "\r\n",
        "  def change_channel (self,num):\r\n",
        "    if (self.on_status==True ):\r\n",
        "      self.current_channel=num\r\n",
        "      print('Channel now is :', num)\r\n",
        "\r\n",
        "\r\n",
        "    else :\r\n",
        "      print('Television is not on!')\r\n",
        "   \r\n"
      ],
      "execution_count": 53,
      "outputs": []
    },
    {
      "cell_type": "code",
      "metadata": {
        "colab": {
          "base_uri": "https://localhost:8080/"
        },
        "id": "iF0GmI7MdPUO",
        "outputId": "22d1bbbc-e77a-4789-f0bf-fe951e863f5e"
      },
      "source": [
        "\r\n",
        "b=TV('Sony',True ,15 ,1.0)\r\n",
        "b.hit_power()\r\n",
        "b.hit_power()\r\n",
        "b.change_channel(1)\r\n"
      ],
      "execution_count": 54,
      "outputs": [
        {
          "output_type": "stream",
          "text": [
            "Television is  turned on!\n",
            "Television is  turned on!\n",
            "Channel now is : 1\n"
          ],
          "name": "stdout"
        }
      ]
    },
    {
      "cell_type": "code",
      "metadata": {
        "colab": {
          "base_uri": "https://localhost:8080/"
        },
        "id": "KhTlK25xdtlp",
        "outputId": "fdd1fa5b-5884-4d02-df80-eb190307e9a8"
      },
      "source": [
        "\r\n",
        "b=TV('Sony',False ,15 ,1.0)\r\n",
        "b.hit_power()\r\n",
        "b.change_channel(1)\r\n"
      ],
      "execution_count": 55,
      "outputs": [
        {
          "output_type": "stream",
          "text": [
            "Television is turned off!\n",
            "Television is not on!\n"
          ],
          "name": "stdout"
        }
      ]
    }
  ]
}