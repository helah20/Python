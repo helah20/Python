{
  "nbformat": 4,
  "nbformat_minor": 0,
  "metadata": {
    "colab": {
      "name": "codewars.ipynb",
      "provenance": [],
      "collapsed_sections": [],
      "authorship_tag": "ABX9TyNUvkN5bUdhZ6BNcNb+3FMs",
      "include_colab_link": true
    },
    "kernelspec": {
      "name": "python3",
      "display_name": "Python 3"
    }
  },
  "cells": [
    {
      "cell_type": "markdown",
      "metadata": {
        "id": "view-in-github",
        "colab_type": "text"
      },
      "source": [
        "<a href=\"https://colab.research.google.com/github/helah20/Python/blob/main/codewars.ipynb\" target=\"_parent\"><img src=\"https://colab.research.google.com/assets/colab-badge.svg\" alt=\"Open In Colab\"/></a>"
      ]
    },
    {
      "cell_type": "code",
      "metadata": {
        "colab": {
          "base_uri": "https://localhost:8080/"
        },
        "id": "1bGqw0_QHVeA",
        "outputId": "a67c6730-0c08-4e1d-da4d-25ed3c7fe250"
      },
      "source": [
        "def how_much_water(water, load, clothes):\r\n",
        "    # Good luck!\r\n",
        "    amunt_of_water =water*1.1**(load-clothes)\r\n",
        "    dubelload=load*2\r\n",
        "    if (clothes >dubelload ):\r\n",
        "       return ('Too much clothes')\r\n",
        "    elif (clothes < load):\r\n",
        "       return ('Not enough clothes')\r\n",
        "    else:\r\n",
        "       return   amunt_of_water\r\n",
        "\r\n",
        "#how_much_water(50,15,29)\r\n",
        "how_much_water(10,11,20)\r\n",
        "\r\n",
        "#how_much_water(50,15,29), 189.87, ''\r\n"
      ],
      "execution_count": 12,
      "outputs": [
        {
          "output_type": "execute_result",
          "data": {
            "text/plain": [
              "4.240976183724846"
            ]
          },
          "metadata": {
            "tags": []
          },
          "execution_count": 12
        }
      ]
    },
    {
      "cell_type": "markdown",
      "metadata": {
        "id": "6yoFfz1xUwVu"
      },
      "source": [
        "2. Create a function (or write a script in Shell) that takes an integer as an argument and returns \"Even\" for even numbers or \"Odd\" for odd numbers."
      ]
    },
    {
      "cell_type": "code",
      "metadata": {
        "colab": {
          "base_uri": "https://localhost:8080/",
          "height": 35
        },
        "id": "wc3WggtHTgzE",
        "outputId": "f175abb9-a368-4f7e-e7a5-fc4c8d03a656"
      },
      "source": [
        "def even_or_odd(number):\r\n",
        "  if (number%2==0):\r\n",
        "    return \"Even\"\r\n",
        "  else:\r\n",
        "     return \"Odd\"\r\n",
        " \r\n",
        "even_or_odd(-4)    "
      ],
      "execution_count": 17,
      "outputs": [
        {
          "output_type": "execute_result",
          "data": {
            "application/vnd.google.colaboratory.intrinsic+json": {
              "type": "string"
            },
            "text/plain": [
              "'Even'"
            ]
          },
          "metadata": {
            "tags": []
          },
          "execution_count": 17
        }
      ]
    },
    {
      "cell_type": "markdown",
      "metadata": {
        "id": "xpEy8OKEVJmL"
      },
      "source": [
        "3.Return the number (count) of vowels in the given string.\r\n",
        "\r\n",
        "We will consider a, e, i, o, u as vowels for this Kata (but not y).\r\n",
        "\r\n",
        "The input string will only consist of lower case letters and/or spaces."
      ]
    },
    {
      "cell_type": "code",
      "metadata": {
        "colab": {
          "base_uri": "https://localhost:8080/"
        },
        "id": "-epO1O_fVmqU",
        "outputId": "15641ba7-56c5-476e-e379-60d7190e51f1"
      },
      "source": [
        "def get_count(input_str):\r\n",
        "  input_str.lower()\r\n",
        "  num_vowels = 0\r\n",
        "  \r\n",
        "    # your code here\r\n",
        "  for i in range (0,len(input_str)):\r\n",
        "    if( input_str[i] == 'a'or input_str[i] == 'e'or input_str[i] == 'i'or input_str[i] == 'o'or input_str[i] == 'u'):\r\n",
        "  \r\n",
        "        num_vowels+=1\r\n",
        "    \r\n",
        "  return num_vowels\r\n",
        "\r\n",
        "get_count(\"abracadabra\")"
      ],
      "execution_count": 56,
      "outputs": [
        {
          "output_type": "execute_result",
          "data": {
            "text/plain": [
              "5"
            ]
          },
          "metadata": {
            "tags": []
          },
          "execution_count": 56
        }
      ]
    },
    {
      "cell_type": "markdown",
      "metadata": {
        "id": "B76FtDe2lLUU"
      },
      "source": [
        "4. you get an array of numbers, return the sum of all of the positives ones.\r\n",
        "\r\n",
        "    Example \r\n",
        "    [1,-4,7,12] => \r\n",
        "    \r\n",
        "    1 + 7 + 12 = 20"
      ]
    },
    {
      "cell_type": "code",
      "metadata": {
        "colab": {
          "base_uri": "https://localhost:8080/"
        },
        "id": "h3apZgv_j8d4",
        "outputId": "98ac5325-5fc8-4ad4-8d04-7b82c709ceba"
      },
      "source": [
        "def positive_sum(arr):\r\n",
        "    # Your code here\r\n",
        "    result=0\r\n",
        "    for i in range (0,len(arr)):\r\n",
        "        if (arr[i]>0):\r\n",
        "              result+=arr[i]\r\n",
        "    return result\r\n",
        "\r\n",
        "\r\n",
        "positive_sum([1,-2,3,4,5])\r\n"
      ],
      "execution_count": 62,
      "outputs": [
        {
          "output_type": "execute_result",
          "data": {
            "text/plain": [
              "13"
            ]
          },
          "metadata": {
            "tags": []
          },
          "execution_count": 62
        }
      ]
    }
  ]
}