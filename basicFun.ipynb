{
  "nbformat": 4,
  "nbformat_minor": 0,
  "metadata": {
    "colab": {
      "name": "basicFun.ipynb",
      "provenance": [],
      "authorship_tag": "ABX9TyMpaGYUTZtzowjmrboHDJbR",
      "include_colab_link": true
    },
    "kernelspec": {
      "name": "python3",
      "display_name": "Python 3"
    }
  },
  "cells": [
    {
      "cell_type": "markdown",
      "metadata": {
        "id": "view-in-github",
        "colab_type": "text"
      },
      "source": [
        "<a href=\"https://colab.research.google.com/github/helah20/Python/blob/main/basicFun.ipynb\" target=\"_parent\"><img src=\"https://colab.research.google.com/assets/colab-badge.svg\" alt=\"Open In Colab\"/></a>"
      ]
    },
    {
      "cell_type": "code",
      "metadata": {
        "colab": {
          "base_uri": "https://localhost:8080/"
        },
        "id": "ANX3zdGCX5L1",
        "outputId": "2a904c1d-73f2-47e6-a2aa-fb2cb15f4d78"
      },
      "source": [
        "# Create a text file, or copy the code snippets into a Python file\r\n",
        "#1\r\n",
        "def a():\r\n",
        "    return 5\r\n",
        "print(a())\r\n"
      ],
      "execution_count": 1,
      "outputs": [
        {
          "output_type": "stream",
          "text": [
            "5\n"
          ],
          "name": "stdout"
        }
      ]
    },
    {
      "cell_type": "code",
      "metadata": {
        "colab": {
          "base_uri": "https://localhost:8080/"
        },
        "id": "o8a7_lr8YHCa",
        "outputId": "bde2ecdc-b61b-4450-f1d2-5b6a1d07dfd1"
      },
      "source": [
        "#2\r\n",
        "def a():\r\n",
        "    return 5\r\n",
        "print(a()+a())\r\n"
      ],
      "execution_count": 2,
      "outputs": [
        {
          "output_type": "stream",
          "text": [
            "10\n"
          ],
          "name": "stdout"
        }
      ]
    },
    {
      "cell_type": "code",
      "metadata": {
        "colab": {
          "base_uri": "https://localhost:8080/"
        },
        "id": "ubYksHIRYHWn",
        "outputId": "f365f19e-ee4e-4610-a994-54132631b177"
      },
      "source": [
        "#3\r\n",
        "def a():\r\n",
        "    return 5\r\n",
        "    return 10\r\n",
        "print(a())\r\n",
        "\r\n"
      ],
      "execution_count": 9,
      "outputs": [
        {
          "output_type": "stream",
          "text": [
            "5\n"
          ],
          "name": "stdout"
        }
      ]
    },
    {
      "cell_type": "code",
      "metadata": {
        "colab": {
          "base_uri": "https://localhost:8080/"
        },
        "id": "u2HzY7YkYHju",
        "outputId": "5e1eb799-055d-466f-be18-a9bb03fe12e3"
      },
      "source": [
        "#4\r\n",
        "def a():\r\n",
        "    return 5\r\n",
        "    print(10)\r\n",
        "print(a())\r\n"
      ],
      "execution_count": 12,
      "outputs": [
        {
          "output_type": "stream",
          "text": [
            "5\n"
          ],
          "name": "stdout"
        }
      ]
    },
    {
      "cell_type": "code",
      "metadata": {
        "colab": {
          "base_uri": "https://localhost:8080/"
        },
        "id": "oAUuoHv6YHzM",
        "outputId": "03c78004-fc4b-4016-c898-a2824f31c26b"
      },
      "source": [
        "#5\r\n",
        "def a():\r\n",
        "    print(5)\r\n",
        "x = a()\r\n",
        "print(x)\r\n"
      ],
      "execution_count": 13,
      "outputs": [
        {
          "output_type": "stream",
          "text": [
            "5\n",
            "None\n"
          ],
          "name": "stdout"
        }
      ]
    },
    {
      "cell_type": "code",
      "metadata": {
        "colab": {
          "base_uri": "https://localhost:8080/",
          "height": 231
        },
        "id": "fNLusOj5ZX07",
        "outputId": "72ba4920-8c95-4dbb-db06-371b3e1ff53f"
      },
      "source": [
        "#6\r\n",
        "def a(b,c):\r\n",
        "    print(b+c)\r\n",
        "print(a(1,2) + a(2,3))\r\n"
      ],
      "execution_count": 14,
      "outputs": [
        {
          "output_type": "stream",
          "text": [
            "3\n",
            "5\n"
          ],
          "name": "stdout"
        },
        {
          "output_type": "error",
          "ename": "TypeError",
          "evalue": "ignored",
          "traceback": [
            "\u001b[0;31m---------------------------------------------------------------------------\u001b[0m",
            "\u001b[0;31mTypeError\u001b[0m                                 Traceback (most recent call last)",
            "\u001b[0;32m<ipython-input-14-c5f8fce73963>\u001b[0m in \u001b[0;36m<module>\u001b[0;34m()\u001b[0m\n\u001b[1;32m      2\u001b[0m \u001b[0;32mdef\u001b[0m \u001b[0ma\u001b[0m\u001b[0;34m(\u001b[0m\u001b[0mb\u001b[0m\u001b[0;34m,\u001b[0m\u001b[0mc\u001b[0m\u001b[0;34m)\u001b[0m\u001b[0;34m:\u001b[0m\u001b[0;34m\u001b[0m\u001b[0;34m\u001b[0m\u001b[0m\n\u001b[1;32m      3\u001b[0m     \u001b[0mprint\u001b[0m\u001b[0;34m(\u001b[0m\u001b[0mb\u001b[0m\u001b[0;34m+\u001b[0m\u001b[0mc\u001b[0m\u001b[0;34m)\u001b[0m\u001b[0;34m\u001b[0m\u001b[0;34m\u001b[0m\u001b[0m\n\u001b[0;32m----> 4\u001b[0;31m \u001b[0mprint\u001b[0m\u001b[0;34m(\u001b[0m\u001b[0ma\u001b[0m\u001b[0;34m(\u001b[0m\u001b[0;36m1\u001b[0m\u001b[0;34m,\u001b[0m\u001b[0;36m2\u001b[0m\u001b[0;34m)\u001b[0m \u001b[0;34m+\u001b[0m \u001b[0ma\u001b[0m\u001b[0;34m(\u001b[0m\u001b[0;36m2\u001b[0m\u001b[0;34m,\u001b[0m\u001b[0;36m3\u001b[0m\u001b[0;34m)\u001b[0m\u001b[0;34m)\u001b[0m\u001b[0;34m\u001b[0m\u001b[0;34m\u001b[0m\u001b[0m\n\u001b[0m",
            "\u001b[0;31mTypeError\u001b[0m: unsupported operand type(s) for +: 'NoneType' and 'NoneType'"
          ]
        }
      ]
    },
    {
      "cell_type": "code",
      "metadata": {
        "colab": {
          "base_uri": "https://localhost:8080/"
        },
        "id": "OYCRpAD6aHRn",
        "outputId": "28837aa9-c6b5-4148-fc5c-9b13a4f53207"
      },
      "source": [
        "#7\r\n",
        "def a(b,c):\r\n",
        "    return str(b)+str(c)\r\n",
        "print(a(2,5))"
      ],
      "execution_count": 15,
      "outputs": [
        {
          "output_type": "stream",
          "text": [
            "25\n"
          ],
          "name": "stdout"
        }
      ]
    },
    {
      "cell_type": "code",
      "metadata": {
        "colab": {
          "base_uri": "https://localhost:8080/"
        },
        "id": "x-FpajrDaQnX",
        "outputId": "8550f38c-d7dd-45d5-a18d-4475884aecc7"
      },
      "source": [
        "#8\r\n",
        "def a():\r\n",
        "    b = 100\r\n",
        "    print(b)\r\n",
        "    if b < 10:\r\n",
        "        return 5\r\n",
        "    else:\r\n",
        "        return 10\r\n",
        "    return 7\r\n",
        "print(a())"
      ],
      "execution_count": 16,
      "outputs": [
        {
          "output_type": "stream",
          "text": [
            "100\n",
            "10\n"
          ],
          "name": "stdout"
        }
      ]
    },
    {
      "cell_type": "code",
      "metadata": {
        "colab": {
          "base_uri": "https://localhost:8080/"
        },
        "id": "UWidGTxXaf8U",
        "outputId": "a8085b03-bf43-4547-b36a-3ab51f2765a3"
      },
      "source": [
        "#9\r\n",
        "def a(b,c):\r\n",
        "    if b<c:\r\n",
        "        return 7\r\n",
        "    else:\r\n",
        "        return 14\r\n",
        "    return 3\r\n",
        "print(a(2,3))\r\n",
        "print(a(5,3))\r\n",
        "print(a(2,3) + a(5,3))"
      ],
      "execution_count": 17,
      "outputs": [
        {
          "output_type": "stream",
          "text": [
            "7\n",
            "14\n",
            "21\n"
          ],
          "name": "stdout"
        }
      ]
    }
  ]
}